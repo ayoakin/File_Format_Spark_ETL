{
  "nbformat": 4,
  "nbformat_minor": 0,
  "metadata": {
    "colab": {
      "provenance": []
    },
    "kernelspec": {
      "name": "python3",
      "display_name": "Python 3"
    },
    "language_info": {
      "name": "python"
    }
  },
  "cells": [
    {
      "cell_type": "markdown",
      "source": [
        "# Install Spark and Initiate Spark Session"
      ],
      "metadata": {
        "id": "bIAK2hYL0i9T"
      }
    },
    {
      "cell_type": "code",
      "execution_count": 249,
      "metadata": {
        "colab": {
          "base_uri": "https://localhost:8080/"
        },
        "id": "xAWmb81JrFAr",
        "outputId": "ad78d2fb-6dbb-4131-8a52-eb197e18e803"
      },
      "outputs": [
        {
          "output_type": "stream",
          "name": "stdout",
          "text": [
            "\u001b[33m\r0% [Working]\u001b[0m\r            \rGet:1 https://developer.download.nvidia.com/compute/cuda/repos/ubuntu2204/x86_64  InRelease [1,581 B]\n",
            "\u001b[33m\r0% [Waiting for headers] [Connecting to security.ubuntu.com (185.125.190.36)] [\u001b[0m\u001b[33m\r0% [Waiting for headers] [Connecting to security.ubuntu.com (185.125.190.36)] [\u001b[0m\r                                                                               \rGet:2 https://cloud.r-project.org/bin/linux/ubuntu jammy-cran40/ InRelease [3,626 B]\n",
            "Hit:3 http://archive.ubuntu.com/ubuntu jammy InRelease\n",
            "Get:4 https://developer.download.nvidia.com/compute/cuda/repos/ubuntu2204/x86_64  Packages [784 kB]\n",
            "Get:5 http://security.ubuntu.com/ubuntu jammy-security InRelease [110 kB]\n",
            "Get:6 http://archive.ubuntu.com/ubuntu jammy-updates InRelease [119 kB]\n",
            "Hit:7 https://ppa.launchpadcontent.net/c2d4u.team/c2d4u4.0+/ubuntu jammy InRelease\n",
            "Hit:8 https://ppa.launchpadcontent.net/deadsnakes/ppa/ubuntu jammy InRelease\n",
            "Hit:9 http://archive.ubuntu.com/ubuntu jammy-backports InRelease\n",
            "Hit:10 https://ppa.launchpadcontent.net/graphics-drivers/ppa/ubuntu jammy InRelease\n",
            "Hit:11 https://ppa.launchpadcontent.net/ubuntugis/ppa/ubuntu jammy InRelease\n",
            "Fetched 1,018 kB in 1s (694 kB/s)\n",
            "Reading package lists... Done\n",
            "Building dependency tree... Done\n",
            "Reading state information... Done\n",
            "45 packages can be upgraded. Run 'apt list --upgradable' to see them.\n",
            "tar: spark-3.2.1-bin-hadoop3.2.tgz: Cannot open: No such file or directory\n",
            "tar: Error is not recoverable: exiting now\n",
            "Requirement already satisfied: pyspark in /usr/local/lib/python3.10/dist-packages (3.5.1)\n",
            "Requirement already satisfied: py4j==0.10.9.7 in /usr/local/lib/python3.10/dist-packages (from pyspark) (0.10.9.7)\n",
            "Requirement already satisfied: py4j in /usr/local/lib/python3.10/dist-packages (0.10.9.7)\n"
          ]
        }
      ],
      "source": [
        "# Install Pyspark\n",
        "\n",
        "!sudo apt update\n",
        "!apt-get install openjdk-8-jdk-headless -qq > /dev/null\n",
        "#Check this site for the latest download link https://www.apache.org/dyn/closer.lua/spark/spark-3.2.1/spark-3.2.1-bin-hadoop3.2.tgz\n",
        "!wget -q https://dlcdn.apache.org/spark/spark-3.2.1/spark-3.2.1-bin-hadoop3.2.tgz\n",
        "!tar xf spark-3.2.1-bin-hadoop3.2.tgz\n",
        "!pip install -q findspark\n",
        "!pip install pyspark\n",
        "!pip install py4j\n",
        "\n",
        "import os\n",
        "import sys\n",
        "\n",
        "import findspark\n",
        "findspark.init()\n",
        "findspark.find()\n",
        "\n",
        "import pyspark\n",
        "\n",
        "from pyspark.sql import SparkSession\n",
        "from pyspark.sql.functions import lit, col, explode, create_map, countDistinct\n"
      ]
    },
    {
      "cell_type": "code",
      "source": [
        "#Start a Spark Session\n",
        "\n",
        "spark = SparkSession.builder.appName(\"FormatETL\").getOrCreate()\n",
        "sqlContext = SparkSession(spark)\n",
        "\n",
        "#Set log level to show error not warning\n",
        "\n",
        "spark.sparkContext.setLogLevel(\"ERROR\")"
      ],
      "metadata": {
        "id": "VMMOYDLmsh5O"
      },
      "execution_count": 250,
      "outputs": []
    },
    {
      "cell_type": "markdown",
      "source": [
        "# Read and Load CSV"
      ],
      "metadata": {
        "id": "LW1VUigj7E2G"
      }
    },
    {
      "cell_type": "code",
      "source": [
        "#Load CSV file into dataframe\n",
        "\n",
        "complaints_csv_df = spark.read.format(\"csv\").option(\"header\",\"true\").option(\"inferSchema\",\"true\").load(\"Consumer_Complaints.csv\")"
      ],
      "metadata": {
        "id": "Opzv6mjCuQE_"
      },
      "execution_count": 251,
      "outputs": []
    },
    {
      "cell_type": "code",
      "source": [
        "#Show dataframe schema\n",
        "\n",
        "complaints_csv_df.printSchema()"
      ],
      "metadata": {
        "colab": {
          "base_uri": "https://localhost:8080/"
        },
        "id": "WN1RQUux5f_7",
        "outputId": "6f3b1a69-eda9-48c9-8832-d20298ad4674"
      },
      "execution_count": 252,
      "outputs": [
        {
          "output_type": "stream",
          "name": "stdout",
          "text": [
            "root\n",
            " |-- Complaint ID: integer (nullable = true)\n",
            " |-- Submitted via: string (nullable = true)\n",
            " |-- Date submitted: date (nullable = true)\n",
            " |-- Date received: date (nullable = true)\n",
            " |-- State: string (nullable = true)\n",
            " |-- Product: string (nullable = true)\n",
            " |-- Sub-product: string (nullable = true)\n",
            " |-- Issue: string (nullable = true)\n",
            " |-- Sub-issue: string (nullable = true)\n",
            " |-- Company public response: string (nullable = true)\n",
            " |-- Company response to consumer: string (nullable = true)\n",
            " |-- Timely response?: string (nullable = true)\n",
            "\n"
          ]
        }
      ]
    },
    {
      "cell_type": "code",
      "source": [
        "#preview dataframe\n",
        "\n",
        "complaints_csv_df.show(n=10)"
      ],
      "metadata": {
        "colab": {
          "base_uri": "https://localhost:8080/"
        },
        "id": "ea91tQ865tw4",
        "outputId": "cfca97f0-5529-45e4-ba38-35759c752791"
      },
      "execution_count": 253,
      "outputs": [
        {
          "output_type": "stream",
          "name": "stdout",
          "text": [
            "+------------+-------------+--------------+-------------+-----+--------------------+--------------------+--------------------+--------------------+-----------------------+----------------------------+----------------+\n",
            "|Complaint ID|Submitted via|Date submitted|Date received|State|             Product|         Sub-product|               Issue|           Sub-issue|Company public response|Company response to consumer|Timely response?|\n",
            "+------------+-------------+--------------+-------------+-----+--------------------+--------------------+--------------------+--------------------+-----------------------+----------------------------+----------------+\n",
            "|     4848023|     Referral|    2021-10-24|   2021-10-27|   NY|            Mortgage|Conventional home...|Applying for a mo...|                NULL|   Company has respo...|        Closed with expla...|             Yes|\n",
            "|     3621464|          Web|    2020-04-24|   2020-04-24|   FL|Money transfer, v...|Refund anticipati...|Lost or stolen check|                NULL|   Company has respo...|        Closed with monet...|             Yes|\n",
            "|     5818349|          Web|    2022-07-27|   2022-07-27|   CA|Credit reporting,...|    Credit reporting|Incorrect informa...|Account informati...|   Company has respo...|        Closed with expla...|             Yes|\n",
            "|     7233015|     Referral|    2023-07-10|   2023-07-11|   CA|Credit card or pr...|General-purpose p...|Problem getting a...|Trouble getting, ...|                   NULL|                 In progress|            NULL|\n",
            "|     5820224|     Referral|    2022-07-27|   2022-07-28|   VA|Credit card or pr...|General-purpose c...|Closing your account|Company closed yo...|   Company has respo...|        Closed with expla...|             Yes|\n",
            "|     6237961|          Web|    2022-11-23|   2022-11-23|   CA|Credit card or pr...|General-purpose c...|Getting a credit ...|Card opened as re...|   Company has respo...|        Closed with expla...|             Yes|\n",
            "|     4348292|          Web|    2021-05-04|   2021-05-04|   TX|Checking or savin...|    Checking account|  Closing an account|Funds not receive...|   Company has respo...|        Closed with monet...|             Yes|\n",
            "|     4090544|          Web|    2021-01-24|   2021-01-24|   CA|Credit reporting,...|    Credit reporting|Incorrect informa...|Account status in...|   Company has respo...|        Closed with expla...|             Yes|\n",
            "|     5337082|          Web|    2022-03-18|   2022-03-18|   TX|Credit card or pr...|General-purpose c...|    Fees or interest|   Problem with fees|   Company has respo...|        Closed with monet...|             Yes|\n",
            "|     6203657|          Web|    2022-11-14|   2022-11-14|   VA|Checking or savin...|Other banking pro...|  Closing an account|Funds not receive...|   Company has respo...|        Closed with expla...|             Yes|\n",
            "+------------+-------------+--------------+-------------+-----+--------------------+--------------------+--------------------+--------------------+-----------------------+----------------------------+----------------+\n",
            "only showing top 10 rows\n",
            "\n"
          ]
        }
      ]
    },
    {
      "cell_type": "code",
      "source": [
        "#preview dataframe shape\n",
        "\n",
        "print((complaints_csv_df.count(), len(complaints_csv_df.columns)))"
      ],
      "metadata": {
        "colab": {
          "base_uri": "https://localhost:8080/"
        },
        "id": "DvCQPtxAvsmu",
        "outputId": "4e190d82-9bc7-4859-8bca-eedf116d10a1"
      },
      "execution_count": 254,
      "outputs": [
        {
          "output_type": "stream",
          "name": "stdout",
          "text": [
            "(62516, 12)\n"
          ]
        }
      ]
    },
    {
      "cell_type": "code",
      "source": [
        "# select required columns from dataframe - number of complaints made in each state\n",
        "from pyspark.sql.functions import count\n",
        "\n",
        "complaints_state = complaints_csv_df.groupBy('State').agg(count('Complaint ID').alias('Complaints_Count'))\n",
        "\n",
        "complaints_state = complaints_state.withColumnRenamed(\"State\", \"State_Abbrv\")\n",
        "\n",
        "complaints_state.show()"
      ],
      "metadata": {
        "colab": {
          "base_uri": "https://localhost:8080/"
        },
        "id": "muR_hSiZVon9",
        "outputId": "8c13207f-25b1-4ea4-b785-20641d2dce94"
      },
      "execution_count": 255,
      "outputs": [
        {
          "output_type": "stream",
          "name": "stdout",
          "text": [
            "+-----------+----------------+\n",
            "|State_Abbrv|Complaints_Count|\n",
            "+-----------+----------------+\n",
            "|         AZ|            1516|\n",
            "|         SC|             822|\n",
            "|         LA|             246|\n",
            "|         MN|             382|\n",
            "|         NJ|            2664|\n",
            "|         DC|             353|\n",
            "|         OR|             620|\n",
            "|         VA|            1731|\n",
            "|         RI|             249|\n",
            "|         KY|             157|\n",
            "|         WY|              22|\n",
            "|         NH|             199|\n",
            "|         MI|            1395|\n",
            "|         NV|            1221|\n",
            "|         WI|             291|\n",
            "|         ID|             122|\n",
            "|         CA|           13709|\n",
            "|         CT|            1097|\n",
            "|         NE|              83|\n",
            "|         MT|              70|\n",
            "+-----------+----------------+\n",
            "only showing top 20 rows\n",
            "\n"
          ]
        }
      ]
    },
    {
      "cell_type": "markdown",
      "source": [
        "# Read and Load JSON"
      ],
      "metadata": {
        "id": "71M9UW8U7PEb"
      }
    },
    {
      "cell_type": "code",
      "source": [
        "#Load JSON file into dataFrame\n",
        "\n",
        "population_json_df = spark.read.format(\"json\").option(\"multiline\",\"true\").load(\"us-states-population.json\")"
      ],
      "metadata": {
        "id": "oZ4axZp47bSF"
      },
      "execution_count": 256,
      "outputs": []
    },
    {
      "cell_type": "code",
      "source": [
        "#Show dataframe schema\n",
        "\n",
        "population_json_df.printSchema()"
      ],
      "metadata": {
        "colab": {
          "base_uri": "https://localhost:8080/"
        },
        "id": "ShH0OpEM8Yiq",
        "outputId": "cb6ccab5-bf1d-490e-af24-561a14f7ccda"
      },
      "execution_count": 257,
      "outputs": [
        {
          "output_type": "stream",
          "name": "stdout",
          "text": [
            "root\n",
            " |-- AK: struct (nullable = true)\n",
            " |    |-- pop_2014: long (nullable = true)\n",
            " |    |-- state: string (nullable = true)\n",
            " |-- AL: struct (nullable = true)\n",
            " |    |-- pop_2014: long (nullable = true)\n",
            " |    |-- state: string (nullable = true)\n",
            " |-- AR: struct (nullable = true)\n",
            " |    |-- pop_2014: long (nullable = true)\n",
            " |    |-- state: string (nullable = true)\n",
            " |-- AZ: struct (nullable = true)\n",
            " |    |-- pop_2014: long (nullable = true)\n",
            " |    |-- state: string (nullable = true)\n",
            " |-- CA: struct (nullable = true)\n",
            " |    |-- pop_2014: long (nullable = true)\n",
            " |    |-- state: string (nullable = true)\n",
            " |-- CO: struct (nullable = true)\n",
            " |    |-- pop_2014: long (nullable = true)\n",
            " |    |-- state: string (nullable = true)\n",
            " |-- CT: struct (nullable = true)\n",
            " |    |-- pop_2014: long (nullable = true)\n",
            " |    |-- state: string (nullable = true)\n",
            " |-- DC: struct (nullable = true)\n",
            " |    |-- pop_2014: long (nullable = true)\n",
            " |    |-- state: string (nullable = true)\n",
            " |-- DE: struct (nullable = true)\n",
            " |    |-- pop_2014: long (nullable = true)\n",
            " |    |-- state: string (nullable = true)\n",
            " |-- FL: struct (nullable = true)\n",
            " |    |-- pop_2014: long (nullable = true)\n",
            " |    |-- state: string (nullable = true)\n",
            " |-- GA: struct (nullable = true)\n",
            " |    |-- pop_2014: long (nullable = true)\n",
            " |    |-- state: string (nullable = true)\n",
            " |-- HI: struct (nullable = true)\n",
            " |    |-- pop_2014: long (nullable = true)\n",
            " |    |-- state: string (nullable = true)\n",
            " |-- IA: struct (nullable = true)\n",
            " |    |-- pop_2014: long (nullable = true)\n",
            " |    |-- state: string (nullable = true)\n",
            " |-- ID: struct (nullable = true)\n",
            " |    |-- pop_2014: long (nullable = true)\n",
            " |    |-- state: string (nullable = true)\n",
            " |-- IL: struct (nullable = true)\n",
            " |    |-- pop_2014: long (nullable = true)\n",
            " |    |-- state: string (nullable = true)\n",
            " |-- IN: struct (nullable = true)\n",
            " |    |-- pop_2014: long (nullable = true)\n",
            " |    |-- state: string (nullable = true)\n",
            " |-- KS: struct (nullable = true)\n",
            " |    |-- pop_2014: long (nullable = true)\n",
            " |    |-- state: string (nullable = true)\n",
            " |-- KY: struct (nullable = true)\n",
            " |    |-- pop_2014: long (nullable = true)\n",
            " |    |-- state: string (nullable = true)\n",
            " |-- LA: struct (nullable = true)\n",
            " |    |-- pop_2014: long (nullable = true)\n",
            " |    |-- state: string (nullable = true)\n",
            " |-- MA: struct (nullable = true)\n",
            " |    |-- pop_2014: long (nullable = true)\n",
            " |    |-- state: string (nullable = true)\n",
            " |-- MD: struct (nullable = true)\n",
            " |    |-- pop_2014: long (nullable = true)\n",
            " |    |-- state: string (nullable = true)\n",
            " |-- ME: struct (nullable = true)\n",
            " |    |-- pop_2014: long (nullable = true)\n",
            " |    |-- state: string (nullable = true)\n",
            " |-- MI: struct (nullable = true)\n",
            " |    |-- pop_2014: long (nullable = true)\n",
            " |    |-- state: string (nullable = true)\n",
            " |-- MN: struct (nullable = true)\n",
            " |    |-- pop_2014: long (nullable = true)\n",
            " |    |-- state: string (nullable = true)\n",
            " |-- MO: struct (nullable = true)\n",
            " |    |-- pop_2014: long (nullable = true)\n",
            " |    |-- state: string (nullable = true)\n",
            " |-- MS: struct (nullable = true)\n",
            " |    |-- pop_2014: long (nullable = true)\n",
            " |    |-- state: string (nullable = true)\n",
            " |-- MT: struct (nullable = true)\n",
            " |    |-- pop_2014: long (nullable = true)\n",
            " |    |-- state: string (nullable = true)\n",
            " |-- NC: struct (nullable = true)\n",
            " |    |-- pop_2014: long (nullable = true)\n",
            " |    |-- state: string (nullable = true)\n",
            " |-- ND: struct (nullable = true)\n",
            " |    |-- pop_2014: long (nullable = true)\n",
            " |    |-- state: string (nullable = true)\n",
            " |-- NE: struct (nullable = true)\n",
            " |    |-- pop_2014: long (nullable = true)\n",
            " |    |-- state: string (nullable = true)\n",
            " |-- NH: struct (nullable = true)\n",
            " |    |-- pop_2014: long (nullable = true)\n",
            " |    |-- state: string (nullable = true)\n",
            " |-- NJ: struct (nullable = true)\n",
            " |    |-- pop_2014: long (nullable = true)\n",
            " |    |-- state: string (nullable = true)\n",
            " |-- NM: struct (nullable = true)\n",
            " |    |-- pop_2014: long (nullable = true)\n",
            " |    |-- state: string (nullable = true)\n",
            " |-- NV: struct (nullable = true)\n",
            " |    |-- pop_2014: long (nullable = true)\n",
            " |    |-- state: string (nullable = true)\n",
            " |-- NY: struct (nullable = true)\n",
            " |    |-- pop_2014: long (nullable = true)\n",
            " |    |-- state: string (nullable = true)\n",
            " |-- OH: struct (nullable = true)\n",
            " |    |-- pop_2014: long (nullable = true)\n",
            " |    |-- state: string (nullable = true)\n",
            " |-- OK: struct (nullable = true)\n",
            " |    |-- pop_2014: long (nullable = true)\n",
            " |    |-- state: string (nullable = true)\n",
            " |-- OR: struct (nullable = true)\n",
            " |    |-- pop_2014: long (nullable = true)\n",
            " |    |-- state: string (nullable = true)\n",
            " |-- PA: struct (nullable = true)\n",
            " |    |-- pop_2014: long (nullable = true)\n",
            " |    |-- state: string (nullable = true)\n",
            " |-- RI: struct (nullable = true)\n",
            " |    |-- pop_2014: long (nullable = true)\n",
            " |    |-- state: string (nullable = true)\n",
            " |-- SC: struct (nullable = true)\n",
            " |    |-- pop_2014: long (nullable = true)\n",
            " |    |-- state: string (nullable = true)\n",
            " |-- SD: struct (nullable = true)\n",
            " |    |-- pop_2014: long (nullable = true)\n",
            " |    |-- state: string (nullable = true)\n",
            " |-- TN: struct (nullable = true)\n",
            " |    |-- pop_2014: long (nullable = true)\n",
            " |    |-- state: string (nullable = true)\n",
            " |-- TX: struct (nullable = true)\n",
            " |    |-- pop_2014: long (nullable = true)\n",
            " |    |-- state: string (nullable = true)\n",
            " |-- UT: struct (nullable = true)\n",
            " |    |-- pop_2014: long (nullable = true)\n",
            " |    |-- state: string (nullable = true)\n",
            " |-- VA: struct (nullable = true)\n",
            " |    |-- pop_2014: long (nullable = true)\n",
            " |    |-- state: string (nullable = true)\n",
            " |-- VT: struct (nullable = true)\n",
            " |    |-- pop_2014: long (nullable = true)\n",
            " |    |-- state: string (nullable = true)\n",
            " |-- WA: struct (nullable = true)\n",
            " |    |-- pop_2014: long (nullable = true)\n",
            " |    |-- state: string (nullable = true)\n",
            " |-- WI: struct (nullable = true)\n",
            " |    |-- pop_2014: long (nullable = true)\n",
            " |    |-- state: string (nullable = true)\n",
            " |-- WV: struct (nullable = true)\n",
            " |    |-- pop_2014: long (nullable = true)\n",
            " |    |-- state: string (nullable = true)\n",
            " |-- WY: struct (nullable = true)\n",
            " |    |-- pop_2014: long (nullable = true)\n",
            " |    |-- state: string (nullable = true)\n",
            "\n"
          ]
        }
      ]
    },
    {
      "cell_type": "code",
      "source": [
        "#preview dataframe\n",
        "population_json_df.show(n=10)"
      ],
      "metadata": {
        "colab": {
          "base_uri": "https://localhost:8080/"
        },
        "id": "gfF5iobp8pLQ",
        "outputId": "ba47327f-cacb-43ba-f883-65f22be87aee"
      },
      "execution_count": 258,
      "outputs": [
        {
          "output_type": "stream",
          "name": "stdout",
          "text": [
            "+----------------+------------------+-------------------+------------------+--------------------+-------------------+--------------------+--------------------+------------------+-------------------+-------------------+-----------------+---------------+----------------+--------------------+------------------+-----------------+-------------------+--------------------+--------------------+-------------------+----------------+-------------------+--------------------+-------------------+--------------------+------------------+--------------------+--------------------+-------------------+--------------------+--------------------+--------------------+-----------------+--------------------+----------------+-------------------+-----------------+--------------------+--------------------+--------------------+--------------------+--------------------+-----------------+---------------+-------------------+-----------------+--------------------+--------------------+--------------------+-----------------+\n",
            "|              AK|                AL|                 AR|                AZ|                  CA|                 CO|                  CT|                  DC|                DE|                 FL|                 GA|               HI|             IA|              ID|                  IL|                IN|               KS|                 KY|                  LA|                  MA|                 MD|              ME|                 MI|                  MN|                 MO|                  MS|                MT|                  NC|                  ND|                 NE|                  NH|                  NJ|                  NM|               NV|                  NY|              OH|                 OK|               OR|                  PA|                  RI|                  SC|                  SD|                  TN|               TX|             UT|                 VA|               VT|                  WA|                  WI|                  WV|               WY|\n",
            "+----------------+------------------+-------------------+------------------+--------------------+-------------------+--------------------+--------------------+------------------+-------------------+-------------------+-----------------+---------------+----------------+--------------------+------------------+-----------------+-------------------+--------------------+--------------------+-------------------+----------------+-------------------+--------------------+-------------------+--------------------+------------------+--------------------+--------------------+-------------------+--------------------+--------------------+--------------------+-----------------+--------------------+----------------+-------------------+-----------------+--------------------+--------------------+--------------------+--------------------+--------------------+-----------------+---------------+-------------------+-----------------+--------------------+--------------------+--------------------+-----------------+\n",
            "|{736732, Alaska}|{4849377, Alabama}|{2966369, Arkansas}|{6731484, Arizona}|{38802500, Califo...|{5355866, Colorado}|{3596677, Connect...|{658893, District...|{935614, Delaware}|{19893297, Florida}|{10097343, Georgia}|{1419561, Hawaii}|{3107126, Iowa}|{1634464, Idaho}|{12880580, Illinois}|{6596855, Indiana}|{2904021, Kansas}|{4413457, Kentucky}|{4649676, Louisiana}|{6745408, Massach...|{5976407, Maryland}|{1330089, Maine}|{9909877, Michigan}|{5457173, Minnesota}|{6063589, Missouri}|{2994079, Mississ...|{1023579, Montana}|{9943964, North C...|{739482, North Da...|{1881503, Nebraska}|{1326813, New Ham...|{8938175, New Jer...|{2085572, New Mex...|{2839099, Nevada}|{19746227, New York}|{11594163, Ohio}|{3878051, Oklahoma}|{3970239, Oregon}|{12787209, Pennsy...|{1055173, Rhode I...|{4832482, South C...|{853175, South Da...|{6549352, Tennessee}|{26956958, Texas}|{2942902, Utah}|{8326289, Virginia}|{626562, Vermont}|{7061530, Washing...|{5757564, Wisconsin}|{1850326, West Vi...|{584153, Wyoming}|\n",
            "+----------------+------------------+-------------------+------------------+--------------------+-------------------+--------------------+--------------------+------------------+-------------------+-------------------+-----------------+---------------+----------------+--------------------+------------------+-----------------+-------------------+--------------------+--------------------+-------------------+----------------+-------------------+--------------------+-------------------+--------------------+------------------+--------------------+--------------------+-------------------+--------------------+--------------------+--------------------+-----------------+--------------------+----------------+-------------------+-----------------+--------------------+--------------------+--------------------+--------------------+--------------------+-----------------+---------------+-------------------+-----------------+--------------------+--------------------+--------------------+-----------------+\n",
            "\n"
          ]
        }
      ]
    },
    {
      "cell_type": "code",
      "source": [
        "#Adding headers to dataframe\n",
        "\n",
        "population_json_df = population_json_df.withColumn(\"State\", lit(\"Population\"))\n",
        "\n",
        "population_json_df.show(n=10)\n"
      ],
      "metadata": {
        "colab": {
          "base_uri": "https://localhost:8080/"
        },
        "id": "tm8-Jcmnti5o",
        "outputId": "778ac6b8-91ca-4a8b-debf-3b898995e6fc"
      },
      "execution_count": 259,
      "outputs": [
        {
          "output_type": "stream",
          "name": "stdout",
          "text": [
            "+----------------+------------------+-------------------+------------------+--------------------+-------------------+--------------------+--------------------+------------------+-------------------+-------------------+-----------------+---------------+----------------+--------------------+------------------+-----------------+-------------------+--------------------+--------------------+-------------------+----------------+-------------------+--------------------+-------------------+--------------------+------------------+--------------------+--------------------+-------------------+--------------------+--------------------+--------------------+-----------------+--------------------+----------------+-------------------+-----------------+--------------------+--------------------+--------------------+--------------------+--------------------+-----------------+---------------+-------------------+-----------------+--------------------+--------------------+--------------------+-----------------+----------+\n",
            "|              AK|                AL|                 AR|                AZ|                  CA|                 CO|                  CT|                  DC|                DE|                 FL|                 GA|               HI|             IA|              ID|                  IL|                IN|               KS|                 KY|                  LA|                  MA|                 MD|              ME|                 MI|                  MN|                 MO|                  MS|                MT|                  NC|                  ND|                 NE|                  NH|                  NJ|                  NM|               NV|                  NY|              OH|                 OK|               OR|                  PA|                  RI|                  SC|                  SD|                  TN|               TX|             UT|                 VA|               VT|                  WA|                  WI|                  WV|               WY|     State|\n",
            "+----------------+------------------+-------------------+------------------+--------------------+-------------------+--------------------+--------------------+------------------+-------------------+-------------------+-----------------+---------------+----------------+--------------------+------------------+-----------------+-------------------+--------------------+--------------------+-------------------+----------------+-------------------+--------------------+-------------------+--------------------+------------------+--------------------+--------------------+-------------------+--------------------+--------------------+--------------------+-----------------+--------------------+----------------+-------------------+-----------------+--------------------+--------------------+--------------------+--------------------+--------------------+-----------------+---------------+-------------------+-----------------+--------------------+--------------------+--------------------+-----------------+----------+\n",
            "|{736732, Alaska}|{4849377, Alabama}|{2966369, Arkansas}|{6731484, Arizona}|{38802500, Califo...|{5355866, Colorado}|{3596677, Connect...|{658893, District...|{935614, Delaware}|{19893297, Florida}|{10097343, Georgia}|{1419561, Hawaii}|{3107126, Iowa}|{1634464, Idaho}|{12880580, Illinois}|{6596855, Indiana}|{2904021, Kansas}|{4413457, Kentucky}|{4649676, Louisiana}|{6745408, Massach...|{5976407, Maryland}|{1330089, Maine}|{9909877, Michigan}|{5457173, Minnesota}|{6063589, Missouri}|{2994079, Mississ...|{1023579, Montana}|{9943964, North C...|{739482, North Da...|{1881503, Nebraska}|{1326813, New Ham...|{8938175, New Jer...|{2085572, New Mex...|{2839099, Nevada}|{19746227, New York}|{11594163, Ohio}|{3878051, Oklahoma}|{3970239, Oregon}|{12787209, Pennsy...|{1055173, Rhode I...|{4832482, South C...|{853175, South Da...|{6549352, Tennessee}|{26956958, Texas}|{2942902, Utah}|{8326289, Virginia}|{626562, Vermont}|{7061530, Washing...|{5757564, Wisconsin}|{1850326, West Vi...|{584153, Wyoming}|Population|\n",
            "+----------------+------------------+-------------------+------------------+--------------------+-------------------+--------------------+--------------------+------------------+-------------------+-------------------+-----------------+---------------+----------------+--------------------+------------------+-----------------+-------------------+--------------------+--------------------+-------------------+----------------+-------------------+--------------------+-------------------+--------------------+------------------+--------------------+--------------------+-------------------+--------------------+--------------------+--------------------+-----------------+--------------------+----------------+-------------------+-----------------+--------------------+--------------------+--------------------+--------------------+--------------------+-----------------+---------------+-------------------+-----------------+--------------------+--------------------+--------------------+-----------------+----------+\n",
            "\n"
          ]
        }
      ]
    },
    {
      "cell_type": "code",
      "source": [
        "population_json_df.printSchema()"
      ],
      "metadata": {
        "colab": {
          "base_uri": "https://localhost:8080/"
        },
        "id": "XW0wLJ0rLVNM",
        "outputId": "bec5c465-c240-495d-a497-dc762662bf31"
      },
      "execution_count": 260,
      "outputs": [
        {
          "output_type": "stream",
          "name": "stdout",
          "text": [
            "root\n",
            " |-- AK: struct (nullable = true)\n",
            " |    |-- pop_2014: long (nullable = true)\n",
            " |    |-- state: string (nullable = true)\n",
            " |-- AL: struct (nullable = true)\n",
            " |    |-- pop_2014: long (nullable = true)\n",
            " |    |-- state: string (nullable = true)\n",
            " |-- AR: struct (nullable = true)\n",
            " |    |-- pop_2014: long (nullable = true)\n",
            " |    |-- state: string (nullable = true)\n",
            " |-- AZ: struct (nullable = true)\n",
            " |    |-- pop_2014: long (nullable = true)\n",
            " |    |-- state: string (nullable = true)\n",
            " |-- CA: struct (nullable = true)\n",
            " |    |-- pop_2014: long (nullable = true)\n",
            " |    |-- state: string (nullable = true)\n",
            " |-- CO: struct (nullable = true)\n",
            " |    |-- pop_2014: long (nullable = true)\n",
            " |    |-- state: string (nullable = true)\n",
            " |-- CT: struct (nullable = true)\n",
            " |    |-- pop_2014: long (nullable = true)\n",
            " |    |-- state: string (nullable = true)\n",
            " |-- DC: struct (nullable = true)\n",
            " |    |-- pop_2014: long (nullable = true)\n",
            " |    |-- state: string (nullable = true)\n",
            " |-- DE: struct (nullable = true)\n",
            " |    |-- pop_2014: long (nullable = true)\n",
            " |    |-- state: string (nullable = true)\n",
            " |-- FL: struct (nullable = true)\n",
            " |    |-- pop_2014: long (nullable = true)\n",
            " |    |-- state: string (nullable = true)\n",
            " |-- GA: struct (nullable = true)\n",
            " |    |-- pop_2014: long (nullable = true)\n",
            " |    |-- state: string (nullable = true)\n",
            " |-- HI: struct (nullable = true)\n",
            " |    |-- pop_2014: long (nullable = true)\n",
            " |    |-- state: string (nullable = true)\n",
            " |-- IA: struct (nullable = true)\n",
            " |    |-- pop_2014: long (nullable = true)\n",
            " |    |-- state: string (nullable = true)\n",
            " |-- ID: struct (nullable = true)\n",
            " |    |-- pop_2014: long (nullable = true)\n",
            " |    |-- state: string (nullable = true)\n",
            " |-- IL: struct (nullable = true)\n",
            " |    |-- pop_2014: long (nullable = true)\n",
            " |    |-- state: string (nullable = true)\n",
            " |-- IN: struct (nullable = true)\n",
            " |    |-- pop_2014: long (nullable = true)\n",
            " |    |-- state: string (nullable = true)\n",
            " |-- KS: struct (nullable = true)\n",
            " |    |-- pop_2014: long (nullable = true)\n",
            " |    |-- state: string (nullable = true)\n",
            " |-- KY: struct (nullable = true)\n",
            " |    |-- pop_2014: long (nullable = true)\n",
            " |    |-- state: string (nullable = true)\n",
            " |-- LA: struct (nullable = true)\n",
            " |    |-- pop_2014: long (nullable = true)\n",
            " |    |-- state: string (nullable = true)\n",
            " |-- MA: struct (nullable = true)\n",
            " |    |-- pop_2014: long (nullable = true)\n",
            " |    |-- state: string (nullable = true)\n",
            " |-- MD: struct (nullable = true)\n",
            " |    |-- pop_2014: long (nullable = true)\n",
            " |    |-- state: string (nullable = true)\n",
            " |-- ME: struct (nullable = true)\n",
            " |    |-- pop_2014: long (nullable = true)\n",
            " |    |-- state: string (nullable = true)\n",
            " |-- MI: struct (nullable = true)\n",
            " |    |-- pop_2014: long (nullable = true)\n",
            " |    |-- state: string (nullable = true)\n",
            " |-- MN: struct (nullable = true)\n",
            " |    |-- pop_2014: long (nullable = true)\n",
            " |    |-- state: string (nullable = true)\n",
            " |-- MO: struct (nullable = true)\n",
            " |    |-- pop_2014: long (nullable = true)\n",
            " |    |-- state: string (nullable = true)\n",
            " |-- MS: struct (nullable = true)\n",
            " |    |-- pop_2014: long (nullable = true)\n",
            " |    |-- state: string (nullable = true)\n",
            " |-- MT: struct (nullable = true)\n",
            " |    |-- pop_2014: long (nullable = true)\n",
            " |    |-- state: string (nullable = true)\n",
            " |-- NC: struct (nullable = true)\n",
            " |    |-- pop_2014: long (nullable = true)\n",
            " |    |-- state: string (nullable = true)\n",
            " |-- ND: struct (nullable = true)\n",
            " |    |-- pop_2014: long (nullable = true)\n",
            " |    |-- state: string (nullable = true)\n",
            " |-- NE: struct (nullable = true)\n",
            " |    |-- pop_2014: long (nullable = true)\n",
            " |    |-- state: string (nullable = true)\n",
            " |-- NH: struct (nullable = true)\n",
            " |    |-- pop_2014: long (nullable = true)\n",
            " |    |-- state: string (nullable = true)\n",
            " |-- NJ: struct (nullable = true)\n",
            " |    |-- pop_2014: long (nullable = true)\n",
            " |    |-- state: string (nullable = true)\n",
            " |-- NM: struct (nullable = true)\n",
            " |    |-- pop_2014: long (nullable = true)\n",
            " |    |-- state: string (nullable = true)\n",
            " |-- NV: struct (nullable = true)\n",
            " |    |-- pop_2014: long (nullable = true)\n",
            " |    |-- state: string (nullable = true)\n",
            " |-- NY: struct (nullable = true)\n",
            " |    |-- pop_2014: long (nullable = true)\n",
            " |    |-- state: string (nullable = true)\n",
            " |-- OH: struct (nullable = true)\n",
            " |    |-- pop_2014: long (nullable = true)\n",
            " |    |-- state: string (nullable = true)\n",
            " |-- OK: struct (nullable = true)\n",
            " |    |-- pop_2014: long (nullable = true)\n",
            " |    |-- state: string (nullable = true)\n",
            " |-- OR: struct (nullable = true)\n",
            " |    |-- pop_2014: long (nullable = true)\n",
            " |    |-- state: string (nullable = true)\n",
            " |-- PA: struct (nullable = true)\n",
            " |    |-- pop_2014: long (nullable = true)\n",
            " |    |-- state: string (nullable = true)\n",
            " |-- RI: struct (nullable = true)\n",
            " |    |-- pop_2014: long (nullable = true)\n",
            " |    |-- state: string (nullable = true)\n",
            " |-- SC: struct (nullable = true)\n",
            " |    |-- pop_2014: long (nullable = true)\n",
            " |    |-- state: string (nullable = true)\n",
            " |-- SD: struct (nullable = true)\n",
            " |    |-- pop_2014: long (nullable = true)\n",
            " |    |-- state: string (nullable = true)\n",
            " |-- TN: struct (nullable = true)\n",
            " |    |-- pop_2014: long (nullable = true)\n",
            " |    |-- state: string (nullable = true)\n",
            " |-- TX: struct (nullable = true)\n",
            " |    |-- pop_2014: long (nullable = true)\n",
            " |    |-- state: string (nullable = true)\n",
            " |-- UT: struct (nullable = true)\n",
            " |    |-- pop_2014: long (nullable = true)\n",
            " |    |-- state: string (nullable = true)\n",
            " |-- VA: struct (nullable = true)\n",
            " |    |-- pop_2014: long (nullable = true)\n",
            " |    |-- state: string (nullable = true)\n",
            " |-- VT: struct (nullable = true)\n",
            " |    |-- pop_2014: long (nullable = true)\n",
            " |    |-- state: string (nullable = true)\n",
            " |-- WA: struct (nullable = true)\n",
            " |    |-- pop_2014: long (nullable = true)\n",
            " |    |-- state: string (nullable = true)\n",
            " |-- WI: struct (nullable = true)\n",
            " |    |-- pop_2014: long (nullable = true)\n",
            " |    |-- state: string (nullable = true)\n",
            " |-- WV: struct (nullable = true)\n",
            " |    |-- pop_2014: long (nullable = true)\n",
            " |    |-- state: string (nullable = true)\n",
            " |-- WY: struct (nullable = true)\n",
            " |    |-- pop_2014: long (nullable = true)\n",
            " |    |-- state: string (nullable = true)\n",
            " |-- State: string (nullable = false)\n",
            "\n"
          ]
        }
      ]
    },
    {
      "cell_type": "code",
      "source": [
        "#Transpose dataframe using Pandas\n",
        "\n",
        "population_json_df = population_json_df.toPandas().set_index(\"State\").transpose().reset_index()\n",
        "\n",
        "population_json_df.head()\n"
      ],
      "metadata": {
        "colab": {
          "base_uri": "https://localhost:8080/",
          "height": 206
        },
        "id": "kSR8A1rFwBfV",
        "outputId": "e6e5b0dc-b11a-460d-b89d-81066c24b7dc"
      },
      "execution_count": 261,
      "outputs": [
        {
          "output_type": "execute_result",
          "data": {
            "text/plain": [
              "State index              Population\n",
              "0        AK        (736732, Alaska)\n",
              "1        AL      (4849377, Alabama)\n",
              "2        AR     (2966369, Arkansas)\n",
              "3        AZ      (6731484, Arizona)\n",
              "4        CA  (38802500, California)"
            ],
            "text/html": [
              "\n",
              "  <div id=\"df-34d810df-9eef-4fda-9ed4-cbd4438381c8\" class=\"colab-df-container\">\n",
              "    <div>\n",
              "<style scoped>\n",
              "    .dataframe tbody tr th:only-of-type {\n",
              "        vertical-align: middle;\n",
              "    }\n",
              "\n",
              "    .dataframe tbody tr th {\n",
              "        vertical-align: top;\n",
              "    }\n",
              "\n",
              "    .dataframe thead th {\n",
              "        text-align: right;\n",
              "    }\n",
              "</style>\n",
              "<table border=\"1\" class=\"dataframe\">\n",
              "  <thead>\n",
              "    <tr style=\"text-align: right;\">\n",
              "      <th>State</th>\n",
              "      <th>index</th>\n",
              "      <th>Population</th>\n",
              "    </tr>\n",
              "  </thead>\n",
              "  <tbody>\n",
              "    <tr>\n",
              "      <th>0</th>\n",
              "      <td>AK</td>\n",
              "      <td>(736732, Alaska)</td>\n",
              "    </tr>\n",
              "    <tr>\n",
              "      <th>1</th>\n",
              "      <td>AL</td>\n",
              "      <td>(4849377, Alabama)</td>\n",
              "    </tr>\n",
              "    <tr>\n",
              "      <th>2</th>\n",
              "      <td>AR</td>\n",
              "      <td>(2966369, Arkansas)</td>\n",
              "    </tr>\n",
              "    <tr>\n",
              "      <th>3</th>\n",
              "      <td>AZ</td>\n",
              "      <td>(6731484, Arizona)</td>\n",
              "    </tr>\n",
              "    <tr>\n",
              "      <th>4</th>\n",
              "      <td>CA</td>\n",
              "      <td>(38802500, California)</td>\n",
              "    </tr>\n",
              "  </tbody>\n",
              "</table>\n",
              "</div>\n",
              "    <div class=\"colab-df-buttons\">\n",
              "\n",
              "  <div class=\"colab-df-container\">\n",
              "    <button class=\"colab-df-convert\" onclick=\"convertToInteractive('df-34d810df-9eef-4fda-9ed4-cbd4438381c8')\"\n",
              "            title=\"Convert this dataframe to an interactive table.\"\n",
              "            style=\"display:none;\">\n",
              "\n",
              "  <svg xmlns=\"http://www.w3.org/2000/svg\" height=\"24px\" viewBox=\"0 -960 960 960\">\n",
              "    <path d=\"M120-120v-720h720v720H120Zm60-500h600v-160H180v160Zm220 220h160v-160H400v160Zm0 220h160v-160H400v160ZM180-400h160v-160H180v160Zm440 0h160v-160H620v160ZM180-180h160v-160H180v160Zm440 0h160v-160H620v160Z\"/>\n",
              "  </svg>\n",
              "    </button>\n",
              "\n",
              "  <style>\n",
              "    .colab-df-container {\n",
              "      display:flex;\n",
              "      gap: 12px;\n",
              "    }\n",
              "\n",
              "    .colab-df-convert {\n",
              "      background-color: #E8F0FE;\n",
              "      border: none;\n",
              "      border-radius: 50%;\n",
              "      cursor: pointer;\n",
              "      display: none;\n",
              "      fill: #1967D2;\n",
              "      height: 32px;\n",
              "      padding: 0 0 0 0;\n",
              "      width: 32px;\n",
              "    }\n",
              "\n",
              "    .colab-df-convert:hover {\n",
              "      background-color: #E2EBFA;\n",
              "      box-shadow: 0px 1px 2px rgba(60, 64, 67, 0.3), 0px 1px 3px 1px rgba(60, 64, 67, 0.15);\n",
              "      fill: #174EA6;\n",
              "    }\n",
              "\n",
              "    .colab-df-buttons div {\n",
              "      margin-bottom: 4px;\n",
              "    }\n",
              "\n",
              "    [theme=dark] .colab-df-convert {\n",
              "      background-color: #3B4455;\n",
              "      fill: #D2E3FC;\n",
              "    }\n",
              "\n",
              "    [theme=dark] .colab-df-convert:hover {\n",
              "      background-color: #434B5C;\n",
              "      box-shadow: 0px 1px 3px 1px rgba(0, 0, 0, 0.15);\n",
              "      filter: drop-shadow(0px 1px 2px rgba(0, 0, 0, 0.3));\n",
              "      fill: #FFFFFF;\n",
              "    }\n",
              "  </style>\n",
              "\n",
              "    <script>\n",
              "      const buttonEl =\n",
              "        document.querySelector('#df-34d810df-9eef-4fda-9ed4-cbd4438381c8 button.colab-df-convert');\n",
              "      buttonEl.style.display =\n",
              "        google.colab.kernel.accessAllowed ? 'block' : 'none';\n",
              "\n",
              "      async function convertToInteractive(key) {\n",
              "        const element = document.querySelector('#df-34d810df-9eef-4fda-9ed4-cbd4438381c8');\n",
              "        const dataTable =\n",
              "          await google.colab.kernel.invokeFunction('convertToInteractive',\n",
              "                                                    [key], {});\n",
              "        if (!dataTable) return;\n",
              "\n",
              "        const docLinkHtml = 'Like what you see? Visit the ' +\n",
              "          '<a target=\"_blank\" href=https://colab.research.google.com/notebooks/data_table.ipynb>data table notebook</a>'\n",
              "          + ' to learn more about interactive tables.';\n",
              "        element.innerHTML = '';\n",
              "        dataTable['output_type'] = 'display_data';\n",
              "        await google.colab.output.renderOutput(dataTable, element);\n",
              "        const docLink = document.createElement('div');\n",
              "        docLink.innerHTML = docLinkHtml;\n",
              "        element.appendChild(docLink);\n",
              "      }\n",
              "    </script>\n",
              "  </div>\n",
              "\n",
              "\n",
              "<div id=\"df-787d8417-cdb0-49d5-89bd-61ba90838c29\">\n",
              "  <button class=\"colab-df-quickchart\" onclick=\"quickchart('df-787d8417-cdb0-49d5-89bd-61ba90838c29')\"\n",
              "            title=\"Suggest charts\"\n",
              "            style=\"display:none;\">\n",
              "\n",
              "<svg xmlns=\"http://www.w3.org/2000/svg\" height=\"24px\"viewBox=\"0 0 24 24\"\n",
              "     width=\"24px\">\n",
              "    <g>\n",
              "        <path d=\"M19 3H5c-1.1 0-2 .9-2 2v14c0 1.1.9 2 2 2h14c1.1 0 2-.9 2-2V5c0-1.1-.9-2-2-2zM9 17H7v-7h2v7zm4 0h-2V7h2v10zm4 0h-2v-4h2v4z\"/>\n",
              "    </g>\n",
              "</svg>\n",
              "  </button>\n",
              "\n",
              "<style>\n",
              "  .colab-df-quickchart {\n",
              "      --bg-color: #E8F0FE;\n",
              "      --fill-color: #1967D2;\n",
              "      --hover-bg-color: #E2EBFA;\n",
              "      --hover-fill-color: #174EA6;\n",
              "      --disabled-fill-color: #AAA;\n",
              "      --disabled-bg-color: #DDD;\n",
              "  }\n",
              "\n",
              "  [theme=dark] .colab-df-quickchart {\n",
              "      --bg-color: #3B4455;\n",
              "      --fill-color: #D2E3FC;\n",
              "      --hover-bg-color: #434B5C;\n",
              "      --hover-fill-color: #FFFFFF;\n",
              "      --disabled-bg-color: #3B4455;\n",
              "      --disabled-fill-color: #666;\n",
              "  }\n",
              "\n",
              "  .colab-df-quickchart {\n",
              "    background-color: var(--bg-color);\n",
              "    border: none;\n",
              "    border-radius: 50%;\n",
              "    cursor: pointer;\n",
              "    display: none;\n",
              "    fill: var(--fill-color);\n",
              "    height: 32px;\n",
              "    padding: 0;\n",
              "    width: 32px;\n",
              "  }\n",
              "\n",
              "  .colab-df-quickchart:hover {\n",
              "    background-color: var(--hover-bg-color);\n",
              "    box-shadow: 0 1px 2px rgba(60, 64, 67, 0.3), 0 1px 3px 1px rgba(60, 64, 67, 0.15);\n",
              "    fill: var(--button-hover-fill-color);\n",
              "  }\n",
              "\n",
              "  .colab-df-quickchart-complete:disabled,\n",
              "  .colab-df-quickchart-complete:disabled:hover {\n",
              "    background-color: var(--disabled-bg-color);\n",
              "    fill: var(--disabled-fill-color);\n",
              "    box-shadow: none;\n",
              "  }\n",
              "\n",
              "  .colab-df-spinner {\n",
              "    border: 2px solid var(--fill-color);\n",
              "    border-color: transparent;\n",
              "    border-bottom-color: var(--fill-color);\n",
              "    animation:\n",
              "      spin 1s steps(1) infinite;\n",
              "  }\n",
              "\n",
              "  @keyframes spin {\n",
              "    0% {\n",
              "      border-color: transparent;\n",
              "      border-bottom-color: var(--fill-color);\n",
              "      border-left-color: var(--fill-color);\n",
              "    }\n",
              "    20% {\n",
              "      border-color: transparent;\n",
              "      border-left-color: var(--fill-color);\n",
              "      border-top-color: var(--fill-color);\n",
              "    }\n",
              "    30% {\n",
              "      border-color: transparent;\n",
              "      border-left-color: var(--fill-color);\n",
              "      border-top-color: var(--fill-color);\n",
              "      border-right-color: var(--fill-color);\n",
              "    }\n",
              "    40% {\n",
              "      border-color: transparent;\n",
              "      border-right-color: var(--fill-color);\n",
              "      border-top-color: var(--fill-color);\n",
              "    }\n",
              "    60% {\n",
              "      border-color: transparent;\n",
              "      border-right-color: var(--fill-color);\n",
              "    }\n",
              "    80% {\n",
              "      border-color: transparent;\n",
              "      border-right-color: var(--fill-color);\n",
              "      border-bottom-color: var(--fill-color);\n",
              "    }\n",
              "    90% {\n",
              "      border-color: transparent;\n",
              "      border-bottom-color: var(--fill-color);\n",
              "    }\n",
              "  }\n",
              "</style>\n",
              "\n",
              "  <script>\n",
              "    async function quickchart(key) {\n",
              "      const quickchartButtonEl =\n",
              "        document.querySelector('#' + key + ' button');\n",
              "      quickchartButtonEl.disabled = true;  // To prevent multiple clicks.\n",
              "      quickchartButtonEl.classList.add('colab-df-spinner');\n",
              "      try {\n",
              "        const charts = await google.colab.kernel.invokeFunction(\n",
              "            'suggestCharts', [key], {});\n",
              "      } catch (error) {\n",
              "        console.error('Error during call to suggestCharts:', error);\n",
              "      }\n",
              "      quickchartButtonEl.classList.remove('colab-df-spinner');\n",
              "      quickchartButtonEl.classList.add('colab-df-quickchart-complete');\n",
              "    }\n",
              "    (() => {\n",
              "      let quickchartButtonEl =\n",
              "        document.querySelector('#df-787d8417-cdb0-49d5-89bd-61ba90838c29 button');\n",
              "      quickchartButtonEl.style.display =\n",
              "        google.colab.kernel.accessAllowed ? 'block' : 'none';\n",
              "    })();\n",
              "  </script>\n",
              "</div>\n",
              "    </div>\n",
              "  </div>\n"
            ],
            "application/vnd.google.colaboratory.intrinsic+json": {
              "type": "dataframe",
              "variable_name": "population_json_df",
              "summary": "{\n  \"name\": \"population_json_df\",\n  \"rows\": 51,\n  \"fields\": [\n    {\n      \"column\": \"index\",\n      \"properties\": {\n        \"dtype\": \"string\",\n        \"num_unique_values\": 51,\n        \"samples\": [\n          \"TX\",\n          \"SC\",\n          \"VT\"\n        ],\n        \"semantic_type\": \"\",\n        \"description\": \"\"\n      }\n    },\n    {\n      \"column\": \"Population\",\n      \"properties\": {\n        \"dtype\": \"string\",\n        \"num_unique_values\": 51,\n        \"samples\": [\n          [\n            26956958,\n            \"Texas\"\n          ],\n          [\n            4832482,\n            \"South Carolina\"\n          ],\n          [\n            626562,\n            \"Vermont\"\n          ]\n        ],\n        \"semantic_type\": \"\",\n        \"description\": \"\"\n      }\n    }\n  ]\n}"
            }
          },
          "metadata": {},
          "execution_count": 261
        }
      ]
    },
    {
      "cell_type": "code",
      "source": [
        "# Convert Transposed dataframe to Pyspark dataframe\n",
        "\n",
        "population_json_df = spark.createDataFrame(population_json_df)\n",
        "\n",
        "population_json_df.printSchema()"
      ],
      "metadata": {
        "colab": {
          "base_uri": "https://localhost:8080/"
        },
        "id": "b9-uzHcMxeE0",
        "outputId": "b52c143f-ad3d-4026-d9ac-3c147f6b9fae"
      },
      "execution_count": 262,
      "outputs": [
        {
          "output_type": "stream",
          "name": "stdout",
          "text": [
            "root\n",
            " |-- index: string (nullable = true)\n",
            " |-- Population: struct (nullable = true)\n",
            " |    |-- pop_2014: long (nullable = true)\n",
            " |    |-- state: string (nullable = true)\n",
            "\n"
          ]
        }
      ]
    },
    {
      "cell_type": "code",
      "source": [
        "# Split Struct structure in dataframe into different columns\n",
        "\n",
        "population_json_df = population_json_df.select(\"index\",\"Population.*\")\n"
      ],
      "metadata": {
        "id": "ruE6Gi6AHfkH"
      },
      "execution_count": 263,
      "outputs": []
    },
    {
      "cell_type": "code",
      "source": [
        "# Preview Transformed dataframe\n",
        "\n",
        "population_json_df.show(n=10)"
      ],
      "metadata": {
        "colab": {
          "base_uri": "https://localhost:8080/"
        },
        "id": "EoFATdpNyEih",
        "outputId": "4065c298-c1b0-452f-a174-407ef5fff8b9"
      },
      "execution_count": 264,
      "outputs": [
        {
          "output_type": "stream",
          "name": "stdout",
          "text": [
            "+-----+--------+--------------------+\n",
            "|index|pop_2014|               state|\n",
            "+-----+--------+--------------------+\n",
            "|   AK|  736732|              Alaska|\n",
            "|   AL| 4849377|             Alabama|\n",
            "|   AR| 2966369|            Arkansas|\n",
            "|   AZ| 6731484|             Arizona|\n",
            "|   CA|38802500|          California|\n",
            "|   CO| 5355866|            Colorado|\n",
            "|   CT| 3596677|         Connecticut|\n",
            "|   DC|  658893|District of Columbia|\n",
            "|   DE|  935614|            Delaware|\n",
            "|   FL|19893297|             Florida|\n",
            "+-----+--------+--------------------+\n",
            "only showing top 10 rows\n",
            "\n"
          ]
        }
      ]
    },
    {
      "cell_type": "markdown",
      "source": [
        "# Read and Load Parquet"
      ],
      "metadata": {
        "id": "Oau0wxb67VAx"
      }
    },
    {
      "cell_type": "code",
      "source": [
        "#Load Parquet file into dataFrame\n",
        "location_parquet_df = spark.read.format(\"parquet\").load(\"US _States_ Long_Lat.parquet\")"
      ],
      "metadata": {
        "id": "LVRB4Ydj9Hin"
      },
      "execution_count": 276,
      "outputs": []
    },
    {
      "cell_type": "code",
      "source": [
        "#Preview dataframe Schema\n",
        "location_parquet_df.printSchema()"
      ],
      "metadata": {
        "colab": {
          "base_uri": "https://localhost:8080/"
        },
        "id": "101vuqve-pf_",
        "outputId": "792bf046-a184-4dcf-b018-6f0155cf4f62"
      },
      "execution_count": 277,
      "outputs": [
        {
          "output_type": "stream",
          "name": "stdout",
          "text": [
            "root\n",
            " |-- state&teritory: string (nullable = true)\n",
            " |-- latitude: double (nullable = true)\n",
            " |-- longitude: double (nullable = true)\n",
            " |-- Name: string (nullable = true)\n",
            "\n"
          ]
        }
      ]
    },
    {
      "cell_type": "code",
      "source": [
        "#Preview dataframe\n",
        "\n",
        "location_parquet_df.show(10)"
      ],
      "metadata": {
        "colab": {
          "base_uri": "https://localhost:8080/"
        },
        "id": "3oi3mFCO-va2",
        "outputId": "8d46421b-adbc-4513-9aa4-613734d4cb08"
      },
      "execution_count": 278,
      "outputs": [
        {
          "output_type": "stream",
          "name": "stdout",
          "text": [
            "+--------------+---------+-----------+--------------------+\n",
            "|state&teritory| latitude|  longitude|                Name|\n",
            "+--------------+---------+-----------+--------------------+\n",
            "|            AK|63.588753|-154.493062|              Alaska|\n",
            "|            AL|32.318231| -86.902298|             Alabama|\n",
            "|            AR| 35.20105| -91.831833|            Arkansas|\n",
            "|            AZ|34.048928|-111.093731|             Arizona|\n",
            "|            CA|36.778261|-119.417932|          California|\n",
            "|            CO|39.550051|-105.782067|            Colorado|\n",
            "|            CT|41.603221| -73.087749|         Connecticut|\n",
            "|            DC|38.905985| -77.033418|District of Columbia|\n",
            "|            DE|38.910832|  -75.52767|            Delaware|\n",
            "|            FL|27.664827| -81.515754|             Florida|\n",
            "+--------------+---------+-----------+--------------------+\n",
            "only showing top 10 rows\n",
            "\n"
          ]
        }
      ]
    },
    {
      "cell_type": "code",
      "source": [
        "#Count rows\n",
        "location_parquet_df.count()"
      ],
      "metadata": {
        "colab": {
          "base_uri": "https://localhost:8080/"
        },
        "id": "hqFXNmeU9kMV",
        "outputId": "a9b3bd4b-5c92-471b-ed7d-34543d84ed2d"
      },
      "execution_count": 279,
      "outputs": [
        {
          "output_type": "execute_result",
          "data": {
            "text/plain": [
              "61"
            ]
          },
          "metadata": {},
          "execution_count": 279
        }
      ]
    },
    {
      "cell_type": "markdown",
      "source": [
        "# Creating Temp Views"
      ],
      "metadata": {
        "id": "uUqJhwcJEJzu"
      }
    },
    {
      "cell_type": "code",
      "source": [
        "complaints_csv_df.createOrReplaceTempView(\"tempCSV\")\n",
        "population_json_df.createOrReplaceTempView(\"tempJSON\")\n",
        "location_parquet_df.createOrReplaceTempView(\"tempParquet\")"
      ],
      "metadata": {
        "id": "OhgZO4lPEQ-j"
      },
      "execution_count": 269,
      "outputs": []
    },
    {
      "cell_type": "code",
      "source": [
        "sqlContext.sql(\"SELECT * FROM tempCSV LIMIT 10\").show()"
      ],
      "metadata": {
        "colab": {
          "base_uri": "https://localhost:8080/"
        },
        "id": "cIMKwS_Mr4VI",
        "outputId": "289fb2fa-5d45-4d37-8bf2-3206e61871bf"
      },
      "execution_count": 270,
      "outputs": [
        {
          "output_type": "stream",
          "name": "stdout",
          "text": [
            "+------------+-------------+--------------+-------------+-----+--------------------+--------------------+--------------------+--------------------+-----------------------+----------------------------+----------------+\n",
            "|Complaint ID|Submitted via|Date submitted|Date received|State|             Product|         Sub-product|               Issue|           Sub-issue|Company public response|Company response to consumer|Timely response?|\n",
            "+------------+-------------+--------------+-------------+-----+--------------------+--------------------+--------------------+--------------------+-----------------------+----------------------------+----------------+\n",
            "|     4848023|     Referral|    2021-10-24|   2021-10-27|   NY|            Mortgage|Conventional home...|Applying for a mo...|                NULL|   Company has respo...|        Closed with expla...|             Yes|\n",
            "|     3621464|          Web|    2020-04-24|   2020-04-24|   FL|Money transfer, v...|Refund anticipati...|Lost or stolen check|                NULL|   Company has respo...|        Closed with monet...|             Yes|\n",
            "|     5818349|          Web|    2022-07-27|   2022-07-27|   CA|Credit reporting,...|    Credit reporting|Incorrect informa...|Account informati...|   Company has respo...|        Closed with expla...|             Yes|\n",
            "|     7233015|     Referral|    2023-07-10|   2023-07-11|   CA|Credit card or pr...|General-purpose p...|Problem getting a...|Trouble getting, ...|                   NULL|                 In progress|            NULL|\n",
            "|     5820224|     Referral|    2022-07-27|   2022-07-28|   VA|Credit card or pr...|General-purpose c...|Closing your account|Company closed yo...|   Company has respo...|        Closed with expla...|             Yes|\n",
            "|     6237961|          Web|    2022-11-23|   2022-11-23|   CA|Credit card or pr...|General-purpose c...|Getting a credit ...|Card opened as re...|   Company has respo...|        Closed with expla...|             Yes|\n",
            "|     4348292|          Web|    2021-05-04|   2021-05-04|   TX|Checking or savin...|    Checking account|  Closing an account|Funds not receive...|   Company has respo...|        Closed with monet...|             Yes|\n",
            "|     4090544|          Web|    2021-01-24|   2021-01-24|   CA|Credit reporting,...|    Credit reporting|Incorrect informa...|Account status in...|   Company has respo...|        Closed with expla...|             Yes|\n",
            "|     5337082|          Web|    2022-03-18|   2022-03-18|   TX|Credit card or pr...|General-purpose c...|    Fees or interest|   Problem with fees|   Company has respo...|        Closed with monet...|             Yes|\n",
            "|     6203657|          Web|    2022-11-14|   2022-11-14|   VA|Checking or savin...|Other banking pro...|  Closing an account|Funds not receive...|   Company has respo...|        Closed with expla...|             Yes|\n",
            "+------------+-------------+--------------+-------------+-----+--------------------+--------------------+--------------------+--------------------+-----------------------+----------------------------+----------------+\n",
            "\n"
          ]
        }
      ]
    },
    {
      "cell_type": "code",
      "source": [
        "sqlContext.sql(\"SELECT * FROM tempJSON LIMIT 10\").show()"
      ],
      "metadata": {
        "colab": {
          "base_uri": "https://localhost:8080/"
        },
        "id": "AyRHW_TSr_PA",
        "outputId": "6f60929f-eb65-436b-e83a-477379ed5e44"
      },
      "execution_count": 271,
      "outputs": [
        {
          "output_type": "stream",
          "name": "stdout",
          "text": [
            "+-----+--------+--------------------+\n",
            "|index|pop_2014|               state|\n",
            "+-----+--------+--------------------+\n",
            "|   AK|  736732|              Alaska|\n",
            "|   AL| 4849377|             Alabama|\n",
            "|   AR| 2966369|            Arkansas|\n",
            "|   AZ| 6731484|             Arizona|\n",
            "|   CA|38802500|          California|\n",
            "|   CO| 5355866|            Colorado|\n",
            "|   CT| 3596677|         Connecticut|\n",
            "|   DC|  658893|District of Columbia|\n",
            "|   DE|  935614|            Delaware|\n",
            "|   FL|19893297|             Florida|\n",
            "+-----+--------+--------------------+\n",
            "\n"
          ]
        }
      ]
    },
    {
      "cell_type": "code",
      "source": [
        "sqlContext.sql(\"SELECT * FROM tempParquet LIMIT 10\").show()"
      ],
      "metadata": {
        "colab": {
          "base_uri": "https://localhost:8080/"
        },
        "id": "5un2zMaf29tP",
        "outputId": "6795fb44-5bcd-4244-f515-ae83b9396578"
      },
      "execution_count": 272,
      "outputs": [
        {
          "output_type": "stream",
          "name": "stdout",
          "text": [
            "+--------------+---------+-----------+--------------------+\n",
            "|state&teritory| latitude|  longitude|                Name|\n",
            "+--------------+---------+-----------+--------------------+\n",
            "|            AK|63.588753|-154.493062|              Alaska|\n",
            "|            AL|32.318231| -86.902298|             Alabama|\n",
            "|            AR| 35.20105| -91.831833|            Arkansas|\n",
            "|            AZ|34.048928|-111.093731|             Arizona|\n",
            "|            CA|36.778261|-119.417932|          California|\n",
            "|            CO|39.550051|-105.782067|            Colorado|\n",
            "|            CT|41.603221| -73.087749|         Connecticut|\n",
            "|            DC|38.905985| -77.033418|District of Columbia|\n",
            "|            DE|38.910832|  -75.52767|            Delaware|\n",
            "|            FL|27.664827| -81.515754|             Florida|\n",
            "+--------------+---------+-----------+--------------------+\n",
            "\n"
          ]
        }
      ]
    },
    {
      "cell_type": "markdown",
      "source": [
        "# Join data"
      ],
      "metadata": {
        "id": "jMLR_hA2ExMH"
      }
    },
    {
      "cell_type": "code",
      "source": [
        "\n",
        "# Join relevant columns from CSV, JSON and Parquet dataframe to create desired dataframe\n",
        "\n",
        "joined_df_1 = complaints_state.join(population_json_df, complaints_state['State_Abbrv'] == population_json_df['index'], 'inner').drop('index')\n",
        "\n",
        "joined_df_1.show(10)\n",
        "\n"
      ],
      "metadata": {
        "colab": {
          "base_uri": "https://localhost:8080/"
        },
        "id": "BHMSeaG7EwFC",
        "outputId": "f25bcae7-23a5-45ff-efe7-fd3b87c1e60f"
      },
      "execution_count": 273,
      "outputs": [
        {
          "output_type": "stream",
          "name": "stdout",
          "text": [
            "+-----------+----------------+--------+--------------------+\n",
            "|State_Abbrv|Complaints_Count|pop_2014|               state|\n",
            "+-----------+----------------+--------+--------------------+\n",
            "|         AK|             110|  736732|              Alaska|\n",
            "|         AL|             269| 4849377|             Alabama|\n",
            "|         AR|             266| 2966369|            Arkansas|\n",
            "|         AZ|            1516| 6731484|             Arizona|\n",
            "|         CA|           13709|38802500|          California|\n",
            "|         CO|             576| 5355866|            Colorado|\n",
            "|         CT|            1097| 3596677|         Connecticut|\n",
            "|         DC|             353|  658893|District of Columbia|\n",
            "|         DE|             268|  935614|            Delaware|\n",
            "|         FL|            6488|19893297|             Florida|\n",
            "+-----------+----------------+--------+--------------------+\n",
            "only showing top 10 rows\n",
            "\n"
          ]
        }
      ]
    },
    {
      "cell_type": "code",
      "source": [
        "joined_df_2 = joined_df_1.join(location_parquet_df, joined_df_1['State_Abbrv'] == location_parquet_df['state&teritory'], 'inner').drop(\"state&teritory\", 'Name')\n",
        "joined_df_2.show(10)"
      ],
      "metadata": {
        "colab": {
          "base_uri": "https://localhost:8080/"
        },
        "id": "6pDUvON3fiQl",
        "outputId": "624dfd38-41ad-402d-b177-991ce1f9d0d5"
      },
      "execution_count": 274,
      "outputs": [
        {
          "output_type": "stream",
          "name": "stdout",
          "text": [
            "+-----------+----------------+--------+--------------------+---------+-----------+\n",
            "|State_Abbrv|Complaints_Count|pop_2014|               state| latitude|  longitude|\n",
            "+-----------+----------------+--------+--------------------+---------+-----------+\n",
            "|         AK|             110|  736732|              Alaska|63.588753|-154.493062|\n",
            "|         AL|             269| 4849377|             Alabama|32.318231| -86.902298|\n",
            "|         AR|             266| 2966369|            Arkansas| 35.20105| -91.831833|\n",
            "|         AZ|            1516| 6731484|             Arizona|34.048928|-111.093731|\n",
            "|         CA|           13709|38802500|          California|36.778261|-119.417932|\n",
            "|         CO|             576| 5355866|            Colorado|39.550051|-105.782067|\n",
            "|         CT|            1097| 3596677|         Connecticut|41.603221| -73.087749|\n",
            "|         DC|             353|  658893|District of Columbia|38.942142| -77.025955|\n",
            "|         DC|             353|  658893|District of Columbia|38.905985| -77.033418|\n",
            "|         DE|             268|  935614|            Delaware|38.910832|  -75.52767|\n",
            "+-----------+----------------+--------+--------------------+---------+-----------+\n",
            "only showing top 10 rows\n",
            "\n"
          ]
        }
      ]
    },
    {
      "cell_type": "code",
      "source": [
        "final_df = joined_df_2.select(\"state\",'State_Abbrv',\"Complaints_Count\",\"pop_2014\",\"latitude\", 'longitude')\n",
        "final_df = final_df.dropDuplicates(['state'])\n",
        "final_df.show(10)"
      ],
      "metadata": {
        "colab": {
          "base_uri": "https://localhost:8080/"
        },
        "id": "dCXS4bYOUkj2",
        "outputId": "52778271-71b9-4aac-9d0a-abd67ce2e996"
      },
      "execution_count": 275,
      "outputs": [
        {
          "output_type": "stream",
          "name": "stdout",
          "text": [
            "+--------------------+-----------+----------------+--------+---------+-----------+\n",
            "|               state|State_Abbrv|Complaints_Count|pop_2014| latitude|  longitude|\n",
            "+--------------------+-----------+----------------+--------+---------+-----------+\n",
            "|             Alabama|         AL|             269| 4849377|32.318231| -86.902298|\n",
            "|              Alaska|         AK|             110|  736732|63.588753|-154.493062|\n",
            "|             Arizona|         AZ|            1516| 6731484|34.048928|-111.093731|\n",
            "|            Arkansas|         AR|             266| 2966369| 35.20105| -91.831833|\n",
            "|          California|         CA|           13709|38802500|36.778261|-119.417932|\n",
            "|            Colorado|         CO|             576| 5355866|39.550051|-105.782067|\n",
            "|         Connecticut|         CT|            1097| 3596677|41.603221| -73.087749|\n",
            "|            Delaware|         DE|             268|  935614|38.910832|  -75.52767|\n",
            "|District of Columbia|         DC|             353|  658893|38.942142| -77.025955|\n",
            "|             Florida|         FL|            6488|19893297|27.664827| -81.515754|\n",
            "+--------------------+-----------+----------------+--------+---------+-----------+\n",
            "only showing top 10 rows\n",
            "\n"
          ]
        }
      ]
    },
    {
      "cell_type": "markdown",
      "source": [
        "# Convert and Store Data"
      ],
      "metadata": {
        "id": "Urc88_dHD_NA"
      }
    },
    {
      "cell_type": "code",
      "source": [
        "#Storing final dataframe as csv\n",
        "\n",
        "final_df.write.csv('ETL_df.csv')"
      ],
      "metadata": {
        "id": "IPl0HZMiEG22"
      },
      "execution_count": 232,
      "outputs": []
    },
    {
      "cell_type": "code",
      "source": [
        "#Storing final dataframe as json\n",
        "\n",
        "final_df.write.json('ETL_df.json')"
      ],
      "metadata": {
        "id": "J1rTDiw2kfs5"
      },
      "execution_count": 233,
      "outputs": []
    },
    {
      "cell_type": "code",
      "source": [
        "#Storing final dataframe as parquet\n",
        "\n",
        "final_df.write.parquet('ETL_df.parquet')"
      ],
      "metadata": {
        "id": "6phO2PDUkf_9"
      },
      "execution_count": 234,
      "outputs": []
    }
  ]
}